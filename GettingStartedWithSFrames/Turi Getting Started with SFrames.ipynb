{
 "cells": [
  {
   "cell_type": "markdown",
   "metadata": {},
   "source": [
    "# Fire up Turi Create\n",
    "\n",
    "We always start with this line before using any part of Turi Create\n"
   ]
  },
  {
   "cell_type": "code",
   "execution_count": 4,
   "metadata": {
    "pycharm": {
     "name": "#%%\n"
    }
   },
   "outputs": [
    {
     "name": "stdout",
     "output_type": "stream",
     "text": [
      "Requirement already satisfied: turicreate in /home/shamil/ML_Foundations_course/venv_3.8/lib/python3.8/site-packages (6.4.1)\r\n",
      "Requirement already satisfied: tensorflow>=2.0.0 in /usr/lib/python3.8/site-packages (from turicreate) (2.4.0)\r\n",
      "Requirement already satisfied: prettytable==0.7.2 in /home/shamil/ML_Foundations_course/venv_3.8/lib/python3.8/site-packages (from turicreate) (0.7.2)\r\n",
      "Requirement already satisfied: numba<0.51.0 in /home/shamil/ML_Foundations_course/venv_3.8/lib/python3.8/site-packages (from turicreate) (0.50.1)\r\n",
      "Requirement already satisfied: coremltools==4.0b3 in /home/shamil/ML_Foundations_course/venv_3.8/lib/python3.8/site-packages (from turicreate) (4.0b3)\r\n",
      "Requirement already satisfied: six>=1.10.0 in /home/shamil/ML_Foundations_course/venv_3.8/lib/python3.8/site-packages (from turicreate) (1.15.0)\r\n",
      "Requirement already satisfied: requests>=2.9.1 in /home/shamil/.local/lib/python3.8/site-packages (from turicreate) (2.25.1)\r\n",
      "Requirement already satisfied: scipy>=1.1.0 in /home/shamil/ML_Foundations_course/venv_3.8/lib/python3.8/site-packages (from turicreate) (1.6.0)\r\n",
      "Requirement already satisfied: decorator>=4.0.9 in /usr/lib/python3.8/site-packages (from turicreate) (4.4.2)\r\n",
      "Requirement already satisfied: pandas>=0.23.2 in /home/shamil/ML_Foundations_course/venv_3.8/lib/python3.8/site-packages (from turicreate) (1.2.0)\r\n",
      "Requirement already satisfied: pillow>=5.2.0 in /home/shamil/.local/lib/python3.8/site-packages (from turicreate) (8.0.1)\r\n",
      "Requirement already satisfied: numpy in /home/shamil/.local/lib/python3.8/site-packages (from turicreate) (1.19.4)\r\n",
      "Requirement already satisfied: resampy==0.2.1 in /home/shamil/ML_Foundations_course/venv_3.8/lib/python3.8/site-packages (from turicreate) (0.2.1)\r\n",
      "Requirement already satisfied: attr in /home/shamil/ML_Foundations_course/venv_3.8/lib/python3.8/site-packages (from coremltools==4.0b3->turicreate) (0.3.1)\r\n",
      "Requirement already satisfied: protobuf>=3.1.0 in /usr/lib/python3.8/site-packages (from coremltools==4.0b3->turicreate) (3.14.0)\r\n",
      "Requirement already satisfied: tqdm in /home/shamil/.local/lib/python3.8/site-packages (from coremltools==4.0b3->turicreate) (4.54.1)\r\n",
      "Requirement already satisfied: attrs in /usr/lib/python3.8/site-packages (from coremltools==4.0b3->turicreate) (20.3.0)\r\n",
      "Requirement already satisfied: sympy in /home/shamil/ML_Foundations_course/venv_3.8/lib/python3.8/site-packages (from coremltools==4.0b3->turicreate) (1.7.1)\r\n",
      "Requirement already satisfied: setuptools in /home/shamil/ML_Foundations_course/venv_3.8/lib/python3.8/site-packages (from numba<0.51.0->turicreate) (51.1.1)\r\n",
      "Requirement already satisfied: llvmlite<0.34,>=0.33.0.dev0 in /home/shamil/ML_Foundations_course/venv_3.8/lib/python3.8/site-packages (from numba<0.51.0->turicreate) (0.33.0)\r\n",
      "Requirement already satisfied: python-dateutil>=2.7.3 in /usr/lib/python3.8/site-packages (from pandas>=0.23.2->turicreate) (2.8.1)\r\n",
      "Requirement already satisfied: pytz>=2017.3 in /home/shamil/.local/lib/python3.8/site-packages (from pandas>=0.23.2->turicreate) (2020.4)\r\n",
      "Requirement already satisfied: urllib3<1.27,>=1.21.1 in /home/shamil/.local/lib/python3.8/site-packages (from requests>=2.9.1->turicreate) (1.26.2)\r\n",
      "Requirement already satisfied: idna<3,>=2.5 in /home/shamil/ML_Foundations_course/venv_3.8/lib/python3.8/site-packages (from requests>=2.9.1->turicreate) (2.10)\r\n",
      "Requirement already satisfied: chardet<5,>=3.0.2 in /home/shamil/.local/lib/python3.8/site-packages (from requests>=2.9.1->turicreate) (4.0.0)\r\n",
      "Requirement already satisfied: certifi>=2017.4.17 in /home/shamil/.local/lib/python3.8/site-packages (from requests>=2.9.1->turicreate) (2020.12.5)\r\n",
      "Requirement already satisfied: wheel~=0.35 in /usr/lib/python3.8/site-packages (from tensorflow>=2.0.0->turicreate) (0.36.2)\r\n",
      "Requirement already satisfied: gast==0.3.3 in /home/shamil/ML_Foundations_course/venv_3.8/lib/python3.8/site-packages (from tensorflow>=2.0.0->turicreate) (0.3.3)\r\n",
      "Requirement already satisfied: google-pasta~=0.2 in /usr/lib/python3.8/site-packages (from tensorflow>=2.0.0->turicreate) (0.2.0)\r\n",
      "Requirement already satisfied: tensorflow-estimator<2.5.0,>=2.4.0rc0 in /usr/lib/python3.8/site-packages (from tensorflow>=2.0.0->turicreate) (2.4.0)\r\n",
      "Requirement already satisfied: grpcio~=1.32.0 in /home/shamil/ML_Foundations_course/venv_3.8/lib/python3.8/site-packages (from tensorflow>=2.0.0->turicreate) (1.32.0)\r\n",
      "Requirement already satisfied: absl-py~=0.10 in /usr/lib/python3.8/site-packages (from tensorflow>=2.0.0->turicreate) (0.11.0)\r\n",
      "Requirement already satisfied: astunparse~=1.6.3 in /usr/lib/python3.8/site-packages (from tensorflow>=2.0.0->turicreate) (1.6.3)\r\n",
      "Requirement already satisfied: h5py~=2.10.0 in /home/shamil/ML_Foundations_course/venv_3.8/lib/python3.8/site-packages (from tensorflow>=2.0.0->turicreate) (2.10.0)\r\n",
      "Requirement already satisfied: opt-einsum~=3.3.0 in /usr/lib/python3.8/site-packages (from tensorflow>=2.0.0->turicreate) (3.3.0)\r\n",
      "Requirement already satisfied: keras-preprocessing~=1.1.2 in /usr/lib/python3.8/site-packages (from tensorflow>=2.0.0->turicreate) (1.1.2)\r\n",
      "Requirement already satisfied: termcolor~=1.1.0 in /usr/lib/python3.8/site-packages (from tensorflow>=2.0.0->turicreate) (1.1.0)\r\n",
      "Requirement already satisfied: typing-extensions~=3.7.4 in /usr/lib/python3.8/site-packages (from tensorflow>=2.0.0->turicreate) (3.7.4.3)\r\n",
      "Requirement already satisfied: flatbuffers~=1.12.0 in /usr/lib/python3.8/site-packages (from tensorflow>=2.0.0->turicreate) (1.12)\r\n",
      "Requirement already satisfied: tensorboard~=2.4 in /usr/lib/python3.8/site-packages (from tensorflow>=2.0.0->turicreate) (2.4.0)\r\n",
      "Requirement already satisfied: wrapt~=1.12.1 in /home/shamil/ML_Foundations_course/venv_3.8/lib/python3.8/site-packages (from tensorflow>=2.0.0->turicreate) (1.12.1)\r\n",
      "Requirement already satisfied: google-auth-oauthlib<0.5,>=0.4.1 in /usr/lib/python3.8/site-packages (from tensorboard~=2.4->tensorflow>=2.0.0->turicreate) (0.4.2)\r\n",
      "Requirement already satisfied: tensorboard-plugin-wit>=1.6.0 in /usr/lib/python3.8/site-packages (from tensorboard~=2.4->tensorflow>=2.0.0->turicreate) (1.7.0)\r\n",
      "Requirement already satisfied: werkzeug>=0.11.15 in /usr/lib/python3.8/site-packages (from tensorboard~=2.4->tensorflow>=2.0.0->turicreate) (1.0.1)\r\n",
      "Requirement already satisfied: google-auth<2,>=1.6.3 in /usr/lib/python3.8/site-packages (from tensorboard~=2.4->tensorflow>=2.0.0->turicreate) (1.24.0)\r\n",
      "Requirement already satisfied: markdown>=2.6.8 in /usr/lib/python3.8/site-packages (from tensorboard~=2.4->tensorflow>=2.0.0->turicreate) (3.3.3)\r\n",
      "Requirement already satisfied: cachetools<5.0,>=2.0.0 in /usr/lib/python3.8/site-packages (from google-auth<2,>=1.6.3->tensorboard~=2.4->tensorflow>=2.0.0->turicreate) (4.2.0)\r\n",
      "Requirement already satisfied: rsa<5,>=3.1.4 in /usr/lib/python3.8/site-packages (from google-auth<2,>=1.6.3->tensorboard~=2.4->tensorflow>=2.0.0->turicreate) (4.6)\r\n",
      "Requirement already satisfied: pyasn1-modules>=0.2.1 in /usr/lib/python3.8/site-packages (from google-auth<2,>=1.6.3->tensorboard~=2.4->tensorflow>=2.0.0->turicreate) (0.2.8)\r\n",
      "Requirement already satisfied: requests-oauthlib>=0.7.0 in /usr/lib/python3.8/site-packages (from google-auth-oauthlib<0.5,>=0.4.1->tensorboard~=2.4->tensorflow>=2.0.0->turicreate) (1.3.0)\r\n",
      "Requirement already satisfied: pyasn1<0.5.0,>=0.4.6 in /usr/lib/python3.8/site-packages (from pyasn1-modules>=0.2.1->google-auth<2,>=1.6.3->tensorboard~=2.4->tensorflow>=2.0.0->turicreate) (0.4.8)\r\n",
      "Requirement already satisfied: oauthlib>=3.0.0 in /usr/lib/python3.8/site-packages (from requests-oauthlib>=0.7.0->google-auth-oauthlib<0.5,>=0.4.1->tensorboard~=2.4->tensorflow>=2.0.0->turicreate) (3.1.0)\r\n",
      "Requirement already satisfied: mpmath>=0.19 in /home/shamil/ML_Foundations_course/venv_3.8/lib/python3.8/site-packages (from sympy->coremltools==4.0b3->turicreate) (1.1.0)\r\n"
     ]
    }
   ],
   "source": [
    "\n",
    "! pip install turicreate\n"
   ]
  },
  {
   "cell_type": "code",
   "execution_count": 5,
   "metadata": {},
   "outputs": [
    {
     "data": {
      "text/plain": "'3.9.1 (default, Dec 13 2020, 11:55:53) \\n[GCC 10.2.0]'"
     },
     "execution_count": 5,
     "metadata": {},
     "output_type": "execute_result"
    }
   ],
   "source": [
    "import sys\n",
    "sys.version"
   ]
  },
  {
   "cell_type": "markdown",
   "metadata": {},
   "source": [
    "# Load a tabular data set"
   ]
  },
  {
   "cell_type": "code",
   "execution_count": 6,
   "metadata": {},
   "outputs": [
    {
     "ename": "NameError",
     "evalue": "name 'turicreate' is not defined",
     "output_type": "error",
     "traceback": [
      "\u001B[0;31m---------------------------------------------------------------------------\u001B[0m",
      "\u001B[0;31mNameError\u001B[0m                                 Traceback (most recent call last)",
      "\u001B[0;32m<ipython-input-6-b66fb1461679>\u001B[0m in \u001B[0;36m<module>\u001B[0;34m\u001B[0m\n\u001B[0;32m----> 1\u001B[0;31m \u001B[0msf\u001B[0m \u001B[0;34m=\u001B[0m \u001B[0mturicreate\u001B[0m\u001B[0;34m.\u001B[0m\u001B[0mSFrame\u001B[0m\u001B[0;34m(\u001B[0m\u001B[0;34m'people-example.csv'\u001B[0m\u001B[0;34m)\u001B[0m\u001B[0;34m\u001B[0m\u001B[0;34m\u001B[0m\u001B[0m\n\u001B[0m\u001B[1;32m      2\u001B[0m \u001B[0;34m\u001B[0m\u001B[0m\n",
      "\u001B[0;31mNameError\u001B[0m: name 'turicreate' is not defined"
     ]
    }
   ],
   "source": [
    "sf = turicreate.SFrame('people-example.csv')"
   ]
  },
  {
   "cell_type": "markdown",
   "metadata": {},
   "source": [
    "# SFrame basics"
   ]
  },
  {
   "cell_type": "code",
   "execution_count": null,
   "metadata": {},
   "outputs": [],
   "source": [
    "sf #we can view first few lines of table"
   ]
  },
  {
   "cell_type": "code",
   "execution_count": null,
   "metadata": {},
   "outputs": [],
   "source": [
    "sf.tail()  # view end of the table"
   ]
  },
  {
   "cell_type": "markdown",
   "metadata": {},
   "source": [
    "# Turi Create visualization"
   ]
  },
  {
   "cell_type": "code",
   "execution_count": null,
   "metadata": {},
   "outputs": [],
   "source": [
    "# .show() visualizes any data structure in Turi Create\n",
    "sf.show()"
   ]
  },
  {
   "cell_type": "code",
   "execution_count": null,
   "metadata": {},
   "outputs": [],
   "source": [
    "sf['age'].show()"
   ]
  },
  {
   "cell_type": "markdown",
   "metadata": {},
   "source": [
    "# Inspect columns of dataset"
   ]
  },
  {
   "cell_type": "code",
   "execution_count": null,
   "metadata": {},
   "outputs": [],
   "source": [
    "sf['Country']"
   ]
  },
  {
   "cell_type": "code",
   "execution_count": null,
   "metadata": {},
   "outputs": [],
   "source": [
    "sf['age']"
   ]
  },
  {
   "cell_type": "markdown",
   "metadata": {},
   "source": [
    "Some simple columnar operations"
   ]
  },
  {
   "cell_type": "code",
   "execution_count": null,
   "metadata": {},
   "outputs": [],
   "source": [
    "sf['age'].mean()"
   ]
  },
  {
   "cell_type": "code",
   "execution_count": null,
   "metadata": {},
   "outputs": [],
   "source": [
    "sf['age'].max()"
   ]
  },
  {
   "cell_type": "markdown",
   "metadata": {},
   "source": [
    "# Create new columns in our SFrame"
   ]
  },
  {
   "cell_type": "code",
   "execution_count": null,
   "metadata": {},
   "outputs": [],
   "source": [
    "sf"
   ]
  },
  {
   "cell_type": "code",
   "execution_count": null,
   "metadata": {},
   "outputs": [],
   "source": [
    "sf['Full Name'] = sf['First Name'] + ' ' + sf['Last Name']"
   ]
  },
  {
   "cell_type": "code",
   "execution_count": null,
   "metadata": {},
   "outputs": [],
   "source": [
    "sf"
   ]
  },
  {
   "cell_type": "code",
   "execution_count": null,
   "metadata": {},
   "outputs": [],
   "source": [
    "sf['age'] * sf['age']"
   ]
  },
  {
   "cell_type": "markdown",
   "metadata": {},
   "source": [
    "# Use the apply function to do a advance transformation of our data"
   ]
  },
  {
   "cell_type": "code",
   "execution_count": null,
   "metadata": {},
   "outputs": [],
   "source": [
    "sf['Country']"
   ]
  },
  {
   "cell_type": "code",
   "execution_count": null,
   "metadata": {},
   "outputs": [],
   "source": [
    "sf['Country'].show()"
   ]
  },
  {
   "cell_type": "code",
   "execution_count": null,
   "metadata": {},
   "outputs": [],
   "source": [
    "def transform_country(country):\n",
    "    if country == 'USA':\n",
    "        return 'United States'\n",
    "    else:\n",
    "        return country"
   ]
  },
  {
   "cell_type": "code",
   "execution_count": null,
   "metadata": {},
   "outputs": [],
   "source": [
    "transform_country('Brazil')"
   ]
  },
  {
   "cell_type": "code",
   "execution_count": null,
   "metadata": {},
   "outputs": [],
   "source": [
    "transform_country('Brasil')"
   ]
  },
  {
   "cell_type": "code",
   "execution_count": null,
   "metadata": {},
   "outputs": [],
   "source": [
    "transform_country('USA')"
   ]
  },
  {
   "cell_type": "code",
   "execution_count": null,
   "metadata": {},
   "outputs": [],
   "source": [
    "sf['Country'].apply(transform_country)"
   ]
  },
  {
   "cell_type": "code",
   "execution_count": null,
   "metadata": {},
   "outputs": [],
   "source": [
    "sf['Country'] = sf['Country'].apply(transform_country)"
   ]
  },
  {
   "cell_type": "code",
   "execution_count": null,
   "metadata": {},
   "outputs": [],
   "source": [
    "sf"
   ]
  },
  {
   "cell_type": "code",
   "execution_count": null,
   "metadata": {},
   "outputs": [],
   "source": []
  }
 ],
 "metadata": {
  "kernelspec": {
   "display_name": "Python 3",
   "language": "python",
   "name": "python3"
  },
  "language_info": {
   "codemirror_mode": {
    "name": "ipython",
    "version": 3
   },
   "file_extension": ".py",
   "mimetype": "text/x-python",
   "name": "python",
   "nbconvert_exporter": "python",
   "pygments_lexer": "ipython3",
   "version": "3.9.1"
  }
 },
 "nbformat": 4,
 "nbformat_minor": 1
}